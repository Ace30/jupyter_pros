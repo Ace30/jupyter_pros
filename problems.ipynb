{
 "cells": [
  {
   "cell_type": "code",
   "execution_count": 5,
   "id": "d3b54de9-fcbb-4387-91d0-de8fe2c151b6",
   "metadata": {},
   "outputs": [
    {
     "name": "stdout",
     "output_type": "stream",
     "text": [
      "-5\n"
     ]
    }
   ],
   "source": [
    "L= [1,2,4,-5,7,9,3,2]\n",
    "m = L[0]\n",
    "for i in L:\n",
    "    if i<m:\n",
    "        m=i\n",
    "print(m)"
   ]
  },
  {
   "cell_type": "code",
   "execution_count": 8,
   "id": "c3929674-5277-4bce-bded-594ad53f7f76",
   "metadata": {},
   "outputs": [],
   "source": [
    "def printSucess():\n",
    "    print(\"The task was successful\")\n",
    "    print(\"Moving to the next task\")\n",
    "    print(\"Send me the next task\")"
   ]
  },
  {
   "cell_type": "code",
   "execution_count": 12,
   "id": "bc4c0932-598d-4c86-b96d-6d8700fb50f3",
   "metadata": {},
   "outputs": [
    {
     "name": "stdout",
     "output_type": "stream",
     "text": [
      "The task was successful\n",
      "Moving to the next task\n",
      "Send me the next task\n",
      "The task was successful\n",
      "Moving to the next task\n",
      "Send me the next task\n",
      "The task was successful\n",
      "Moving to the next task\n",
      "Send me the next task\n",
      "The task was successful\n",
      "Moving to the next task\n",
      "Send me the next task\n",
      "The task was successful\n",
      "Moving to the next task\n",
      "Send me the next task\n"
     ]
    }
   ],
   "source": [
    "printSucess()\n",
    "printSucess()\n",
    "printSucess()\n",
    "printSucess()\n",
    "printSucess()"
   ]
  },
  {
   "cell_type": "code",
   "execution_count": 25,
   "id": "4818e462-4e08-4a70-8b43-ded72165fa3d",
   "metadata": {},
   "outputs": [
    {
     "name": "stdout",
     "output_type": "stream",
     "text": [
      "Hello iam varshit\n"
     ]
    }
   ],
   "source": [
    "def printmessage(msg):\n",
    "    print(msg)\n",
    "   \n",
    "\n",
    "    \n",
    "printmessage(\"Hello iam varshit\")\n",
    "\n"
   ]
  },
  {
   "cell_type": "code",
   "execution_count": 36,
   "id": "49f4d506-1dec-4e9f-9497-36e72e09bc84",
   "metadata": {},
   "outputs": [
    {
     "name": "stdout",
     "output_type": "stream",
     "text": [
      "Your Name is :varshit  and Your AGE is :Twenty three\n"
     ]
    }
   ],
   "source": [
    "def num1(nim1,nim2):\n",
    "   print(\"Your Name is :\" + nim1, \" and Your AGE is :\" + nim2)\n",
    "\n",
    "\n",
    "num1(\"varshit\",\"Twenty three\")"
   ]
  },
  {
   "cell_type": "code",
   "execution_count": 61,
   "id": "c1c31f66-7309-43b4-b770-5ea0a8d38501",
   "metadata": {},
   "outputs": [
    {
     "name": "stdout",
     "output_type": "stream",
     "text": [
      "This is not a string, this is : <class 'int'>\n"
     ]
    }
   ],
   "source": [
    "def var(msg):\n",
    "      if isinstance(msg,str):\n",
    "          print(\"This is a string : \" + msg)\n",
    "      else:\n",
    "          print(\"This is not a string, this is :\", type(msg))\n",
    "\n",
    "var(23)\n",
    "  "
   ]
  },
  {
   "cell_type": "code",
   "execution_count": 67,
   "id": "208266b9-0cc8-4bb9-a53b-ff62bc867040",
   "metadata": {},
   "outputs": [
    {
     "name": "stdout",
     "output_type": "stream",
     "text": [
      "144\n"
     ]
    }
   ],
   "source": [
    "def checkargs(a,b,c):\n",
    "    if isinstance(a,(int,float)) and isinstance(b,(int,float)) and isinstance(c,(int,float)):\n",
    "        print((a+b+c)**2)\n",
    "    else:\n",
    "        print(\"Error:  the input arugement are not of correct\")\n",
    "   \n",
    "\n",
    "checkargs(3,4,5)\n"
   ]
  },
  {
   "cell_type": "code",
   "execution_count": 73,
   "id": "aea13074-59c0-4427-9d2c-242ec81505fe",
   "metadata": {},
   "outputs": [],
   "source": [
    "L = [1,3,4.9,\"name\",3]\n",
    "T = (1,3,4.9,\"name\",3)\n",
    "S = {1,3,4.9,\"name\",3}\n",
    "D = {23:\"Twothree\",'B':43,'C':'CCD'}"
   ]
  },
  {
   "cell_type": "code",
   "execution_count": 77,
   "id": "abf7cc7c-ef25-4492-b84b-c5fc1ff199b5",
   "metadata": {},
   "outputs": [
    {
     "name": "stdout",
     "output_type": "stream",
     "text": [
      "The type of L is  <class 'list'>\n",
      "The type of T is  <class 'tuple'>\n",
      "The type of S is  <class 'set'>\n",
      "The type of D is  <class 'dict'>\n"
     ]
    }
   ],
   "source": [
    "print(\"The type of L is \",type(L))\n",
    "print(\"The type of T is \",type(T))\n",
    "print(\"The type of S is \",type(S))\n",
    "print(\"The type of D is \",type(D))"
   ]
  },
  {
   "cell_type": "code",
   "execution_count": null,
   "id": "6b0fece7-9b64-441e-b4a2-50dda317436e",
   "metadata": {},
   "outputs": [],
   "source": [
    "print(L[1])\n",
    "print(T[1])\n",
    "print(3 in S)\n",
    "print(D[23])\n",
    "\n",
    "\n",
    "T\n",
    "\n",
    "S\n",
    "\n",
    "\n",
    "\n",
    "D\n",
    "\n",
    " L[0:5]\n",
    "\n",
    "S\n",
    "\n",
    "T\n",
    "\n",
    "del L"
   ]
  },
  {
   "cell_type": "code",
   "execution_count": 159,
   "id": "6c2bc657-9eed-49c9-add3-fc05ea9bfb81",
   "metadata": {},
   "outputs": [
    {
     "data": {
      "text/plain": [
       "{1, 3, 4.9, 'name'}"
      ]
     },
     "execution_count": 159,
     "metadata": {},
     "output_type": "execute_result"
    }
   ],
   "source": [
    "S"
   ]
  },
  {
   "cell_type": "code",
   "execution_count": 161,
   "id": "bf5d118f-4f9c-42d4-a5c0-0f23980b290e",
   "metadata": {},
   "outputs": [
    {
     "data": {
      "text/plain": [
       "(1, 3, 4.9, 'name', 3)"
      ]
     },
     "execution_count": 161,
     "metadata": {},
     "output_type": "execute_result"
    }
   ],
   "source": [
    "T"
   ]
  },
  {
   "cell_type": "code",
   "execution_count": 163,
   "id": "d182dcbe-d1ef-4572-8c45-a247451d3ed5",
   "metadata": {},
   "outputs": [
    {
     "data": {
      "text/plain": [
       "{23: 'Twothree', 'B': 43, 'C': 'CCD'}"
      ]
     },
     "execution_count": 163,
     "metadata": {},
     "output_type": "execute_result"
    }
   ],
   "source": [
    "D"
   ]
  },
  {
   "cell_type": "code",
   "execution_count": 166,
   "id": "0505dac4-63a1-4d52-b761-9c77c04b56c9",
   "metadata": {},
   "outputs": [],
   "source": [
    "L = [1,2,3,4,5,6,7]"
   ]
  },
  {
   "cell_type": "code",
   "execution_count": 169,
   "id": "9250a242-f214-4c62-82ea-30a016d49c09",
   "metadata": {},
   "outputs": [],
   "source": [
    "L = L + [9,8,6]"
   ]
  },
  {
   "cell_type": "code",
   "execution_count": 172,
   "id": "b954306a-e075-48d5-a42e-98395bfc75ad",
   "metadata": {},
   "outputs": [
    {
     "data": {
      "text/plain": [
       "[1, 2, 3, 4, 5, 6, 7, 9, 8, 6, 9, 8, 6]"
      ]
     },
     "execution_count": 172,
     "metadata": {},
     "output_type": "execute_result"
    }
   ],
   "source": [
    "L"
   ]
  },
  {
   "cell_type": "code",
   "execution_count": 177,
   "id": "cb5581d9-075c-41db-bf78-9966285d2533",
   "metadata": {},
   "outputs": [],
   "source": [
    "L.append(\"Vars\")"
   ]
  },
  {
   "cell_type": "code",
   "execution_count": 186,
   "id": "7ab3e722-7e36-4df7-99ac-91125c0b2a1d",
   "metadata": {},
   "outputs": [
    {
     "data": {
      "text/plain": [
       "[1, 2, 3, 4, 5, 6, 7, 9, 8, 6, 9, 8, 6, 'Varshit', 'Varshit', 'Vars', 'Vars']"
      ]
     },
     "execution_count": 186,
     "metadata": {},
     "output_type": "execute_result"
    }
   ],
   "source": [
    "L"
   ]
  },
  {
   "cell_type": "code",
   "execution_count": 188,
   "id": "5c72f69f-f48b-422c-867b-f4d82a949aec",
   "metadata": {},
   "outputs": [
    {
     "data": {
      "text/plain": [
       "[1, 2, 3, 4, 5, 6, 7, 9, 8, 6, 9, 8, 6, 'Varshit', 'Varshit', 'Vars', 'Vars']"
      ]
     },
     "execution_count": 188,
     "metadata": {},
     "output_type": "execute_result"
    }
   ],
   "source": [
    "L"
   ]
  },
  {
   "cell_type": "code",
   "execution_count": 190,
   "id": "91f3a732-93bb-4eea-a401-df4cb6037ec8",
   "metadata": {},
   "outputs": [],
   "source": [
    "T2 = ('a', 'b', 34)\n",
    "T3 = T + T2"
   ]
  },
  {
   "cell_type": "code",
   "execution_count": 192,
   "id": "c469b7e4-db9d-4662-bc8d-2be89ff0eea4",
   "metadata": {},
   "outputs": [
    {
     "data": {
      "text/plain": [
       "(1, 3, 4.9, 'name', 3, 'a', 'b', 34)"
      ]
     },
     "execution_count": 192,
     "metadata": {},
     "output_type": "execute_result"
    }
   ],
   "source": [
    "T3\n"
   ]
  },
  {
   "cell_type": "code",
   "execution_count": 194,
   "id": "91a6e092-2c3c-4281-9f44-bac73cbf7ceb",
   "metadata": {},
   "outputs": [
    {
     "data": {
      "text/plain": [
       "{1, 3, 4.9, 'name'}"
      ]
     },
     "execution_count": 194,
     "metadata": {},
     "output_type": "execute_result"
    }
   ],
   "source": [
    "S"
   ]
  },
  {
   "cell_type": "code",
   "execution_count": 198,
   "id": "111a48f9-a20a-4edf-a714-a13bd1368d53",
   "metadata": {},
   "outputs": [],
   "source": [
    "S.add(234)"
   ]
  },
  {
   "cell_type": "code",
   "execution_count": 201,
   "id": "2b3e1c91-c702-4f14-997a-326109b617ba",
   "metadata": {},
   "outputs": [],
   "source": [
    "S.update({1,3,4,5,6,6,\"varshit\"})"
   ]
  },
  {
   "cell_type": "code",
   "execution_count": 203,
   "id": "fd074fd5-6818-47c9-9d51-6f14e2e1ae9a",
   "metadata": {},
   "outputs": [
    {
     "data": {
      "text/plain": [
       "{1, 23, 234, 3, 4, 4.9, 5, 6, 'name', 'varshit'}"
      ]
     },
     "execution_count": 203,
     "metadata": {},
     "output_type": "execute_result"
    }
   ],
   "source": [
    "S\n"
   ]
  },
  {
   "cell_type": "code",
   "execution_count": 205,
   "id": "86029b57-aedd-4b75-aa3f-047b4515a5d7",
   "metadata": {},
   "outputs": [
    {
     "data": {
      "text/plain": [
       "{23: 'Twothree', 'B': 43, 'C': 'CCD'}"
      ]
     },
     "execution_count": 205,
     "metadata": {},
     "output_type": "execute_result"
    }
   ],
   "source": [
    "D"
   ]
  },
  {
   "cell_type": "code",
   "execution_count": 207,
   "id": "653ec212-f44d-4508-9b99-a227c026e907",
   "metadata": {},
   "outputs": [],
   "source": [
    "D['car'] = \"Honda\""
   ]
  },
  {
   "cell_type": "code",
   "execution_count": 209,
   "id": "c795e8f9-0992-4ae9-897e-377e0807515c",
   "metadata": {},
   "outputs": [
    {
     "data": {
      "text/plain": [
       "{23: 'Twothree', 'B': 43, 'C': 'CCD', 'car': 'Honda'}"
      ]
     },
     "execution_count": 209,
     "metadata": {},
     "output_type": "execute_result"
    }
   ],
   "source": [
    "D"
   ]
  },
  {
   "cell_type": "code",
   "execution_count": 211,
   "id": "7950f846-46f1-4f93-920f-7483eaec4edb",
   "metadata": {},
   "outputs": [],
   "source": [
    "D['bike'] = \"B M W\""
   ]
  },
  {
   "cell_type": "code",
   "execution_count": 228,
   "id": "aea04c0e-6df2-4d44-ad13-1ae7af9c2178",
   "metadata": {
    "scrolled": true
   },
   "outputs": [
    {
     "data": {
      "text/plain": [
       "{23: 'Twothree', 'B': 43, 'C': 'CCD', 'car': 'Honda', 'bike': 'BMW'}"
      ]
     },
     "execution_count": 228,
     "metadata": {},
     "output_type": "execute_result"
    }
   ],
   "source": [
    "D"
   ]
  },
  {
   "cell_type": "code",
   "execution_count": 230,
   "id": "7ebd368a-d48d-443b-8b75-a9fc5080f9c2",
   "metadata": {},
   "outputs": [],
   "source": [
    "D3 = {'A' : L,'B': S, 'C' : T, 'D' : D}"
   ]
  },
  {
   "cell_type": "code",
   "execution_count": 232,
   "id": "0d5dc247-7edc-497f-9d7e-fb3c86043e3c",
   "metadata": {},
   "outputs": [
    {
     "data": {
      "text/plain": [
       "[1, 2, 3, 4, 5, 6, 7, 9, 8, 6, 9, 8, 6, 'Varshit', 'Varshit', 'Vars', 'Vars']"
      ]
     },
     "execution_count": 232,
     "metadata": {},
     "output_type": "execute_result"
    }
   ],
   "source": [
    "D3['A']"
   ]
  },
  {
   "cell_type": "code",
   "execution_count": 234,
   "id": "bc46fa9e-3320-41c8-8873-b33b7eebaaa0",
   "metadata": {},
   "outputs": [
    {
     "data": {
      "text/plain": [
       "5"
      ]
     },
     "execution_count": 234,
     "metadata": {},
     "output_type": "execute_result"
    }
   ],
   "source": [
    "D3['A'][4]"
   ]
  },
  {
   "cell_type": "code",
   "execution_count": 236,
   "id": "fab7f4b3-2cc8-4a94-8efa-df9146eb4d2c",
   "metadata": {},
   "outputs": [
    {
     "data": {
      "text/plain": [
       "(1, 3, 4.9, 'name', 3)"
      ]
     },
     "execution_count": 236,
     "metadata": {},
     "output_type": "execute_result"
    }
   ],
   "source": [
    "D3['C']"
   ]
  },
  {
   "cell_type": "code",
   "execution_count": 249,
   "id": "a20e7c93-c906-4748-a596-0e18562fb4e0",
   "metadata": {},
   "outputs": [
    {
     "data": {
      "text/plain": [
       "'Twothree'"
      ]
     },
     "execution_count": 249,
     "metadata": {},
     "output_type": "execute_result"
    }
   ],
   "source": [
    "D3['D'][23]"
   ]
  },
  {
   "cell_type": "code",
   "execution_count": 253,
   "id": "133311f9-ab0e-42a5-8c3b-ee53f9144b6c",
   "metadata": {},
   "outputs": [],
   "source": [
    "def getDataFromUser():\n",
    "    D = {}\n",
    "    while True:\n",
    "        studentID = input(\"Enter student ID : \")\n",
    "        markList = input(\"Enter the marks by comma seperated values: \")\n",
    "        moreStudents = input('Enter \"no\" to quit insertion:')\n",
    "        if studentID in D:\n",
    "            print(studentID, \"is already inserted.\")\n",
    "        else:\n",
    "            D[studentID] = markList.split(\",\")\n",
    "        if moreStudents.lower() == \"no\":\n",
    "            return D"
   ]
  },
  {
   "cell_type": "code",
   "execution_count": 300,
   "id": "5f069335-48c3-4672-809d-f70a360090ca",
   "metadata": {},
   "outputs": [
    {
     "name": "stdin",
     "output_type": "stream",
     "text": [
      "Enter student ID :  12\n",
      "Enter the marks by comma seperated values:  12,23,34,45\n",
      "Enter \"no\" ti quit insertion: dfgh\n",
      "Enter student ID :  22\n",
      "Enter the marks by comma seperated values:  12,23,34,45\n",
      "Enter \"no\" ti quit insertion: fghfd\n",
      "Enter student ID :  45\n",
      "Enter the marks by comma seperated values:  12,23,45,67,21\n",
      "Enter \"no\" ti quit insertion: 67\n",
      "Enter student ID :  56,67,34,56\n",
      "Enter the marks by comma seperated values:  34,45,56,45\n",
      "Enter \"no\" ti quit insertion: no\n"
     ]
    }
   ],
   "source": [
    "studentData = getDataFromUser()"
   ]
  },
  {
   "cell_type": "code",
   "execution_count": 363,
   "id": "789e2c97-64fc-4b24-a414-35cc11d98145",
   "metadata": {},
   "outputs": [
    {
     "data": {
      "text/plain": [
       "{'12': ['12', '23', '34', '45'],\n",
       " '22': ['12', '23', '34', '45'],\n",
       " '45': ['12', '23', '45', '67', '21'],\n",
       " '56,67,34,56': ['34', '45', '56', '45']}"
      ]
     },
     "execution_count": 363,
     "metadata": {},
     "output_type": "execute_result"
    }
   ],
   "source": [
    "studentData\n"
   ]
  },
  {
   "cell_type": "code",
   "execution_count": 364,
   "id": "feadf905-9c64-483a-b703-475687604e80",
   "metadata": {},
   "outputs": [
    {
     "data": {
      "text/plain": [
       "{'12': ['12', '23', '34', '45'],\n",
       " '22': ['12', '23', '34', '45'],\n",
       " '45': ['12', '23', '45', '67', '21'],\n",
       " '56,67,34,56': ['34', '45', '56', '45']}"
      ]
     },
     "execution_count": 364,
     "metadata": {},
     "output_type": "execute_result"
    }
   ],
   "source": [
    "studentData"
   ]
  },
  {
   "cell_type": "code",
   "execution_count": 365,
   "id": "05530206-6d85-4dc8-beef-0334084361c7",
   "metadata": {},
   "outputs": [],
   "source": [
    "def getAvgMarks(D):\n",
    "    avgMarks = {}\n",
    "    for x in D:\n",
    "        L = D[x]\n",
    "        s = 0\n",
    "        for marks in L:\n",
    "            s += int(marks)\n",
    "            avgMarks[x] = s/len(L)\n",
    "        return avgMarks"
   ]
  },
  {
   "cell_type": "code",
   "execution_count": 366,
   "id": "f10d71ce-bf3b-4eb3-ba6d-de62e91468b7",
   "metadata": {},
   "outputs": [],
   "source": [
    "avgM = getAvgMarks(studentData)"
   ]
  },
  {
   "cell_type": "code",
   "execution_count": 367,
   "id": "d67dfe96-e891-4c83-a1cd-a8e452177589",
   "metadata": {},
   "outputs": [
    {
     "data": {
      "text/plain": [
       "{'12': 28.5}"
      ]
     },
     "execution_count": 367,
     "metadata": {},
     "output_type": "execute_result"
    }
   ],
   "source": [
    "avgM"
   ]
  },
  {
   "cell_type": "code",
   "execution_count": 368,
   "id": "465e1e42-b950-4ceb-b808-4b0746ddb832",
   "metadata": {},
   "outputs": [
    {
     "name": "stdout",
     "output_type": "stream",
     "text": [
      "Students : 12 got average Marks as:  28.5\n"
     ]
    }
   ],
   "source": [
    "for x in avgM:\n",
    "    print(\"Students :\",x,\"got average Marks as: \",avgM[x])"
   ]
  },
  {
   "cell_type": "code",
   "execution_count": 350,
   "id": "f7576b6c-93ec-48a8-9698-4ea4b979d4c5",
   "metadata": {},
   "outputs": [
    {
     "name": "stdout",
     "output_type": "stream",
     "text": [
      "Students : 12 got average Marks as:  28.5\n"
     ]
    }
   ],
   "source": []
  },
  {
   "cell_type": "code",
   "execution_count": 369,
   "id": "43b349b5-6282-464e-8487-5ac26dde1458",
   "metadata": {},
   "outputs": [
    {
     "data": {
      "text/plain": [
       "{'12': ['12', '23', '34', '45'],\n",
       " '22': ['12', '23', '34', '45'],\n",
       " '45': ['12', '23', '45', '67', '21'],\n",
       " '56,67,34,56': ['34', '45', '56', '45']}"
      ]
     },
     "execution_count": 369,
     "metadata": {},
     "output_type": "execute_result"
    }
   ],
   "source": [
    "studentData"
   ]
  },
  {
   "cell_type": "code",
   "execution_count": 370,
   "id": "b56e2c53-6027-4fbc-8e0f-597965809b60",
   "metadata": {},
   "outputs": [
    {
     "data": {
      "text/plain": [
       "{'12': 28.5}"
      ]
     },
     "execution_count": 370,
     "metadata": {},
     "output_type": "execute_result"
    }
   ],
   "source": [
    "avgM"
   ]
  },
  {
   "cell_type": "code",
   "execution_count": 371,
   "id": "de7d2fd5-c2a3-4f9f-b3f8-d78fe49977c2",
   "metadata": {},
   "outputs": [],
   "source": [
    "avgM = getAvgMarks(studentData)"
   ]
  },
  {
   "cell_type": "code",
   "execution_count": 372,
   "id": "49fb8f7b-d7ec-4fec-993d-6d1677cc68ad",
   "metadata": {},
   "outputs": [
    {
     "data": {
      "text/plain": [
       "{'12': 28.5}"
      ]
     },
     "execution_count": 372,
     "metadata": {},
     "output_type": "execute_result"
    }
   ],
   "source": [
    "avgM"
   ]
  },
  {
   "cell_type": "code",
   "execution_count": 382,
   "id": "2c89a1d0-082d-4230-8ae4-5c3f7adc37c5",
   "metadata": {},
   "outputs": [
    {
     "name": "stdout",
     "output_type": "stream",
     "text": [
      "Students : 12 got average Marks as:  28.5\n"
     ]
    }
   ],
   "source": [
    "for x in avgM:\n",
    "    print(\"Students :\",x,\"got average Marks as: \",avgM[x])"
   ]
  },
  {
   "cell_type": "code",
   "execution_count": 405,
   "id": "c7356b0a-43d2-4839-bdc4-8093b433363b",
   "metadata": {},
   "outputs": [],
   "source": [
    "import numpy as np"
   ]
  },
  {
   "cell_type": "code",
   "execution_count": 407,
   "id": "aa3f386f-c5d3-4111-8c16-8f6f6f779bb4",
   "metadata": {},
   "outputs": [],
   "source": [
    "a = np.array((1,2,3,4,5))"
   ]
  },
  {
   "cell_type": "code",
   "execution_count": 409,
   "id": "d11df483-06b6-4f4d-9da9-8af1a18b45e2",
   "metadata": {},
   "outputs": [],
   "source": [
    "b = np.array([4,5,6,7,8])"
   ]
  },
  {
   "cell_type": "code",
   "execution_count": 412,
   "id": "c8a90c34-3405-4a47-92d2-9954dbdd16c7",
   "metadata": {},
   "outputs": [
    {
     "name": "stdout",
     "output_type": "stream",
     "text": [
      "[1 2 3 4 5]\n"
     ]
    }
   ],
   "source": [
    "print(a)"
   ]
  },
  {
   "cell_type": "code",
   "execution_count": 414,
   "id": "9e5969eb-3a64-45ea-8410-b6ea68900f40",
   "metadata": {},
   "outputs": [
    {
     "name": "stdout",
     "output_type": "stream",
     "text": [
      "[4 5 6 7 8]\n"
     ]
    }
   ],
   "source": [
    "print(b)"
   ]
  },
  {
   "cell_type": "code",
   "execution_count": 417,
   "id": "e788cc21-c770-49a8-9d67-2709607a8f25",
   "metadata": {},
   "outputs": [
    {
     "data": {
      "text/plain": [
       "numpy.ndarray"
      ]
     },
     "execution_count": 417,
     "metadata": {},
     "output_type": "execute_result"
    }
   ],
   "source": [
    "type(a)"
   ]
  },
  {
   "cell_type": "code",
   "execution_count": 419,
   "id": "4a838224-8f2c-47ba-9ec3-ee29947e433c",
   "metadata": {},
   "outputs": [
    {
     "data": {
      "text/plain": [
       "numpy.ndarray"
      ]
     },
     "execution_count": 419,
     "metadata": {},
     "output_type": "execute_result"
    }
   ],
   "source": [
    "type(b)"
   ]
  },
  {
   "cell_type": "code",
   "execution_count": null,
   "id": "27b66592-4205-4bcd-8ad9-87319a64928d",
   "metadata": {},
   "outputs": [],
   "source": [
    "\n"
   ]
  },
  {
   "cell_type": "code",
   "execution_count": 465,
   "id": "8b981c61-c1e6-4d67-becb-94f896faab12",
   "metadata": {},
   "outputs": [
    {
     "data": {
      "text/plain": [
       "2"
      ]
     },
     "execution_count": 465,
     "metadata": {},
     "output_type": "execute_result"
    }
   ],
   "source": [
    "a.ndim"
   ]
  },
  {
   "cell_type": "code",
   "execution_count": 429,
   "id": "566e196e-e460-4f63-b580-aafa20ebca52",
   "metadata": {},
   "outputs": [
    {
     "name": "stdout",
     "output_type": "stream",
     "text": [
      "3\n"
     ]
    }
   ],
   "source": [
    "print(a[0,2])"
   ]
  },
  {
   "cell_type": "code",
   "execution_count": 443,
   "id": "47f066c0-09bf-4834-9d1e-4ce0237ca452",
   "metadata": {},
   "outputs": [],
   "source": [
    "B = np.array([[[1,2,3],[4,5,6]],[[7,8,9],[1,2,3]]])"
   ]
  },
  {
   "cell_type": "code",
   "execution_count": 444,
   "id": "c8f4026b-013a-4049-a890-18423016976e",
   "metadata": {},
   "outputs": [
    {
     "data": {
      "text/plain": [
       "3"
      ]
     },
     "execution_count": 444,
     "metadata": {},
     "output_type": "execute_result"
    }
   ],
   "source": [
    "B.ndim"
   ]
  },
  {
   "cell_type": "code",
   "execution_count": 450,
   "id": "f1cb3dde-0699-425f-9d24-6268e466968e",
   "metadata": {},
   "outputs": [
    {
     "name": "stdout",
     "output_type": "stream",
     "text": [
      "1\n"
     ]
    }
   ],
   "source": [
    "print(B[1,1,0])"
   ]
  },
  {
   "cell_type": "code",
   "execution_count": 451,
   "id": "b3bd97dd-87cf-476a-9307-10e048adced6",
   "metadata": {},
   "outputs": [
    {
     "name": "stdout",
     "output_type": "stream",
     "text": [
      "[[[1 2 3]\n",
      "  [4 5 6]]\n",
      "\n",
      " [[7 8 9]\n",
      "  [1 2 3]]]\n"
     ]
    }
   ],
   "source": [
    "print(B)"
   ]
  },
  {
   "cell_type": "code",
   "execution_count": 481,
   "id": "c178366e-9f29-49c0-8a4c-81897f12c03f",
   "metadata": {},
   "outputs": [],
   "source": [
    "c = np.array([[[1,2,3]]])"
   ]
  },
  {
   "cell_type": "code",
   "execution_count": 483,
   "id": "cb9e294f-6060-47fd-8b9a-0191d33fcdfd",
   "metadata": {},
   "outputs": [
    {
     "data": {
      "text/plain": [
       "3"
      ]
     },
     "execution_count": 483,
     "metadata": {},
     "output_type": "execute_result"
    }
   ],
   "source": [
    "c.ndim"
   ]
  },
  {
   "cell_type": "code",
   "execution_count": 485,
   "id": "1997ccb8-e2cb-4892-b6dc-f405394544f3",
   "metadata": {},
   "outputs": [
    {
     "data": {
      "text/plain": [
       "array([[[1, 2, 3]]])"
      ]
     },
     "execution_count": 485,
     "metadata": {},
     "output_type": "execute_result"
    }
   ],
   "source": [
    "c"
   ]
  },
  {
   "cell_type": "code",
   "execution_count": 487,
   "id": "861f3f5e-0958-4e08-a3d2-4713443db53b",
   "metadata": {},
   "outputs": [
    {
     "name": "stdout",
     "output_type": "stream",
     "text": [
      "[[[1 2 3]]]\n"
     ]
    }
   ],
   "source": [
    "print(c)"
   ]
  },
  {
   "cell_type": "code",
   "execution_count": 490,
   "id": "471b41d1-4f53-431b-a854-d327bf98d7c0",
   "metadata": {},
   "outputs": [
    {
     "data": {
      "text/plain": [
       "(2, 2, 3)"
      ]
     },
     "execution_count": 490,
     "metadata": {},
     "output_type": "execute_result"
    }
   ],
   "source": [
    "B.shape"
   ]
  },
  {
   "cell_type": "code",
   "execution_count": 492,
   "id": "99314548-b00b-4f01-8331-d53db0602eae",
   "metadata": {},
   "outputs": [
    {
     "data": {
      "text/plain": [
       "array([[[1, 2, 3],\n",
       "        [4, 5, 6]],\n",
       "\n",
       "       [[7, 8, 9],\n",
       "        [1, 2, 3]]])"
      ]
     },
     "execution_count": 492,
     "metadata": {},
     "output_type": "execute_result"
    }
   ],
   "source": [
    "B"
   ]
  },
  {
   "cell_type": "code",
   "execution_count": 495,
   "id": "09703718-f8eb-447f-858d-cd6c46c32864",
   "metadata": {},
   "outputs": [
    {
     "data": {
      "text/plain": [
       "3"
      ]
     },
     "execution_count": 495,
     "metadata": {},
     "output_type": "execute_result"
    }
   ],
   "source": [
    "B.shape[2]"
   ]
  },
  {
   "cell_type": "code",
   "execution_count": 512,
   "id": "e46a79bb-dc42-40db-a13a-c7f54ea37685",
   "metadata": {},
   "outputs": [],
   "source": [
    "A = np.arange(0,101,5)"
   ]
  },
  {
   "cell_type": "code",
   "execution_count": 514,
   "id": "1c2bc3b7-5605-4dd3-b72f-068f6beb7c50",
   "metadata": {},
   "outputs": [
    {
     "name": "stdout",
     "output_type": "stream",
     "text": [
      "[  0   5  10  15  20  25  30  35  40  45  50  55  60  65  70  75  80  85\n",
      "  90  95 100]\n"
     ]
    }
   ],
   "source": [
    "print(A)"
   ]
  },
  {
   "cell_type": "code",
   "execution_count": 564,
   "id": "98f92ffa-fa5b-4bb3-beb7-c6ac9825f773",
   "metadata": {},
   "outputs": [],
   "source": [
    "v = np.random.permutation(np.arange(10))"
   ]
  },
  {
   "cell_type": "code",
   "execution_count": 736,
   "id": "66200999-a2a6-4132-a14e-1bfc36f1c62a",
   "metadata": {},
   "outputs": [
    {
     "name": "stdout",
     "output_type": "stream",
     "text": [
      "[8 6 5 7 9 3 0 2 4 1]\n"
     ]
    }
   ],
   "source": [
    "print(v)"
   ]
  },
  {
   "cell_type": "code",
   "execution_count": 735,
   "id": "e34eeec6-aeb0-42bd-a661-61d1c1089f53",
   "metadata": {},
   "outputs": [
    {
     "data": {
      "text/plain": [
       "16"
      ]
     },
     "execution_count": 735,
     "metadata": {},
     "output_type": "execute_result"
    }
   ],
   "source": [
    "np.random.randint(12,34)"
   ]
  },
  {
   "cell_type": "code",
   "execution_count": 734,
   "id": "fcd6f799-a92d-4fa0-b8e9-c04dff81dd91",
   "metadata": {},
   "outputs": [],
   "source": [
    "Q = np.random.randn(12,400)\n"
   ]
  },
  {
   "cell_type": "code",
   "execution_count": 724,
   "id": "f26a8900-ed1a-4e39-a187-29d890499c5a",
   "metadata": {},
   "outputs": [
    {
     "name": "stdout",
     "output_type": "stream",
     "text": [
      "[[-0.52627945  0.31572714 -0.78873809 ...  0.84773361  0.42258422\n",
      "  -0.92257956]\n",
      " [-2.07843105  0.36715651 -0.81288673 ... -0.93199798  0.58311814\n",
      "  -1.08688889]\n",
      " [ 0.08670714  0.77818901  0.18292895 ... -1.03953304 -0.72637042\n",
      "  -0.15475339]\n",
      " ...\n",
      " [-0.47173617 -1.18717303  0.23684435 ...  1.31573597  0.31374456\n",
      "  -0.36249521]\n",
      " [-0.08752964 -0.23957287 -2.11645348 ...  0.06914775  0.91703819\n",
      "  -0.38186641]\n",
      " [ 0.08263978  0.9881544   0.14973453 ... -0.46657268 -1.5404301\n",
      "  -1.19623327]]\n"
     ]
    }
   ],
   "source": [
    "print(Q)"
   ]
  },
  {
   "cell_type": "code",
   "execution_count": null,
   "id": "04a0503f-d040-4881-b7fd-70381803f13c",
   "metadata": {},
   "outputs": [],
   "source": []
  },
  {
   "cell_type": "code",
   "execution_count": 740,
   "id": "7e6182ed-a0a4-4212-8fdf-bd8f67b7510b",
   "metadata": {},
   "outputs": [
    {
     "data": {
      "text/plain": [
       "(array([[0., 0., 1., ..., 1., 0., 0.],\n",
       "        [0., 0., 2., ..., 1., 0., 0.],\n",
       "        [0., 1., 1., ..., 0., 2., 0.],\n",
       "        ...,\n",
       "        [0., 0., 2., ..., 0., 0., 0.],\n",
       "        [0., 0., 0., ..., 1., 1., 0.],\n",
       "        [0., 0., 0., ..., 1., 0., 0.]]),\n",
       " array([-3.73204118, -3.02339909, -2.314757  , -1.6061149 , -0.89747281,\n",
       "        -0.18883072,  0.51981137,  1.22845347,  1.93709556,  2.64573765,\n",
       "         3.35437975]),\n",
       " <a list of 400 BarContainer objects>)"
      ]
     },
     "execution_count": 740,
     "metadata": {},
     "output_type": "execute_result"
    },
    {
     "data": {
      "image/png": "[encoded data removed]",
      "text/plain": [
       "<Figure size 640x480 with 1 Axes>"
      ]
     },
     "metadata": {},
     "output_type": "display_data"
    }
   ],
   "source": [
    "plt.hist(Q)\n"
   ]
  },
  {
   "cell_type": "code",
   "execution_count": 746,
   "id": "f30278ff-ae9b-4a5f-ba5b-a52feb7a29a3",
   "metadata": {},
   "outputs": [
    {
     "data": {
      "text/plain": [
       "(array([[0., 0., 1., ..., 1., 0., 0.],\n",
       "        [0., 0., 2., ..., 1., 0., 0.],\n",
       "        [0., 1., 1., ..., 0., 2., 0.],\n",
       "        ...,\n",
       "        [0., 0., 2., ..., 0., 0., 0.],\n",
       "        [0., 0., 0., ..., 1., 1., 0.],\n",
       "        [0., 0., 0., ..., 1., 0., 0.]]),\n",
       " array([-3.73204118, -3.02339909, -2.314757  , -1.6061149 , -0.89747281,\n",
       "        -0.18883072,  0.51981137,  1.22845347,  1.93709556,  2.64573765,\n",
       "         3.35437975]),\n",
       " <a list of 400 BarContainer objects>)"
      ]
     },
     "execution_count": 746,
     "metadata": {},
     "output_type": "execute_result"
    },
    {
     "data": {
      "image/png": "[encoded data removed]",
      "text/plain": [
       "<Figure size 640x480 with 1 Axes>"
      ]
     },
     "metadata": {},
     "output_type": "display_data"
    }
   ],
   "source": [
    "plt.hist(Q)"
   ]
  }
 ],
 "metadata": {
  "kernelspec": {
   "display_name": "Python 3 (ipykernel)",
   "language": "python",
   "name": "python3"
  },
  "language_info": {
   "codemirror_mode": {
    "name": "ipython",
    "version": 3
   },
   "file_extension": ".py",
   "mimetype": "text/x-python",
   "name": "python",
   "nbconvert_exporter": "python",
   "pygments_lexer": "ipython3",
   "version": "3.12.4"
  }
 },
 "nbformat": 4,
 "nbformat_minor": 5
}
