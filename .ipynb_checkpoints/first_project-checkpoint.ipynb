{
 "cells": [
  {
   "cell_type": "code",
   "execution_count": 1,
   "id": "239879ec-a811-45e5-ba78-7de44849fda7",
   "metadata": {},
   "outputs": [
    {
     "name": "stdout",
     "output_type": "stream",
     "text": [
      "Hello world\n"
     ]
    }
   ],
   "source": [
    "print(\"Hello world\")"
   ]
  },
  {
   "cell_type": "markdown",
   "id": "6629e05d-a4b7-417f-8f6b-a3979ecb7324",
   "metadata": {},
   "source": [
    "#Variables\n"
   ]
  },
  {
   "cell_type": "code",
   "execution_count": 15,
   "id": "6034d859-18e2-440e-9030-b395f669ec91",
   "metadata": {},
   "outputs": [],
   "source": [
    "x = 3"
   ]
  },
  {
   "cell_type": "code",
   "execution_count": 14,
   "id": "f702e16e-c3cc-4da2-b833-d28ad7dca33c",
   "metadata": {},
   "outputs": [
    {
     "name": "stdout",
     "output_type": "stream",
     "text": [
      "Variable   Type     Data/Info\n",
      "-----------------------------\n",
      "asd        float    5.6\n",
      "x          float    5.6\n"
     ]
    }
   ],
   "source": [
    "%whos"
   ]
  },
  {
   "cell_type": "code",
   "execution_count": 6,
   "id": "733d8538-d0dc-4901-b00c-1aaa455c39ee",
   "metadata": {},
   "outputs": [
    {
     "name": "stdout",
     "output_type": "stream",
     "text": [
      "<class 'int'>\n"
     ]
    }
   ],
   "source": [
    "print(type(x))"
   ]
  },
  {
   "cell_type": "code",
   "execution_count": 12,
   "id": "6d7015e0-2b84-4dcd-859f-6719ef096598",
   "metadata": {},
   "outputs": [],
   "source": [
    "asd = 5.6"
   ]
  },
  {
   "cell_type": "code",
   "execution_count": 17,
   "id": "06ec6640-6480-44f0-99ff-0274db929c73",
   "metadata": {},
   "outputs": [
    {
     "name": "stdout",
     "output_type": "stream",
     "text": [
      "Variable   Type     Data/Info\n",
      "-----------------------------\n",
      "asd        float    5.6\n",
      "x          int      3\n"
     ]
    }
   ],
   "source": [
    "%whos"
   ]
  },
  {
   "cell_type": "markdown",
   "id": "d141535a-6343-4385-ada0-08c38284e98c",
   "metadata": {},
   "source": [
    "#Operators\n"
   ]
  },
  {
   "cell_type": "code",
   "execution_count": 53,
   "id": "361f9ee4-5a28-4708-91cf-a33346a569c5",
   "metadata": {},
   "outputs": [],
   "source": [
    "a,b,d,e,f,x = 3,5,7.2,-3, 5.7,4"
   ]
  },
  {
   "cell_type": "code",
   "execution_count": 55,
   "id": "f237114d-f933-4b1e-a872-021ab283cc95",
   "metadata": {},
   "outputs": [
    {
     "name": "stdout",
     "output_type": "stream",
     "text": [
      "Variable   Type     Data/Info\n",
      "-----------------------------\n",
      "a          int      3\n",
      "asd        float    5.6\n",
      "b          int      5\n",
      "d          float    7.2\n",
      "e          int      -3\n",
      "f          float    5.7\n",
      "x          int      4\n"
     ]
    }
   ],
   "source": [
    "%whos"
   ]
  },
  {
   "cell_type": "code",
   "execution_count": 57,
   "id": "b6542914-cd2b-444b-a9d6-539c96180202",
   "metadata": {},
   "outputs": [],
   "source": [
    "s = \"Hello iam varshit\""
   ]
  },
  {
   "cell_type": "code",
   "execution_count": 59,
   "id": "2f722c4a-be43-4db7-a117-c2ecbb31b7f1",
   "metadata": {},
   "outputs": [
    {
     "name": "stdout",
     "output_type": "stream",
     "text": [
      "Variable   Type     Data/Info\n",
      "-----------------------------\n",
      "a          int      3\n",
      "asd        float    5.6\n",
      "b          int      5\n",
      "d          float    7.2\n",
      "e          int      -3\n",
      "f          float    5.7\n",
      "s          str      Hello iam varshit\n",
      "x          int      4\n"
     ]
    }
   ],
   "source": [
    "%whos\n"
   ]
  },
  {
   "cell_type": "code",
   "execution_count": 61,
   "id": "47821243-1277-49b3-a9cc-448c2f899638",
   "metadata": {},
   "outputs": [],
   "source": [
    "sum_ab = a+b"
   ]
  },
  {
   "cell_type": "code",
   "execution_count": 64,
   "id": "86b008cb-6cb3-46fe-9bbc-b49f332b1abf",
   "metadata": {},
   "outputs": [
    {
     "name": "stdout",
     "output_type": "stream",
     "text": [
      "8\n"
     ]
    }
   ],
   "source": [
    "print(sum_ab)"
   ]
  },
  {
   "cell_type": "code",
   "execution_count": 66,
   "id": "99a97c9e-28a7-4be2-bc7a-6f4883f9bc60",
   "metadata": {},
   "outputs": [
    {
     "data": {
      "text/plain": [
       "int"
      ]
     },
     "execution_count": 66,
     "metadata": {},
     "output_type": "execute_result"
    }
   ],
   "source": [
    "type(sum_ab)"
   ]
  },
  {
   "cell_type": "code",
   "execution_count": 68,
   "id": "494e615a-3953-4fdb-bbfe-ddda0655bb56",
   "metadata": {},
   "outputs": [
    {
     "data": {
      "text/plain": [
       "(3, 0)"
      ]
     },
     "execution_count": 68,
     "metadata": {},
     "output_type": "execute_result"
    }
   ],
   "source": [
    "divmod(12,4)"
   ]
  },
  {
   "cell_type": "code",
   "execution_count": 70,
   "id": "ab43f89b-1913-4e91-abbe-b9679b70c837",
   "metadata": {},
   "outputs": [
    {
     "data": {
      "text/plain": [
       "(11, 2)"
      ]
     },
     "execution_count": 70,
     "metadata": {},
     "output_type": "execute_result"
    }
   ],
   "source": [
    "divmod(35,3)"
   ]
  },
  {
   "cell_type": "code",
   "execution_count": 72,
   "id": "6d531311-937e-424c-bf64-ffa1ca227578",
   "metadata": {},
   "outputs": [
    {
     "data": {
      "text/plain": [
       "True"
      ]
     },
     "execution_count": 72,
     "metadata": {},
     "output_type": "execute_result"
    }
   ],
   "source": [
    "isinstance(3,int)"
   ]
  },
  {
   "cell_type": "code",
   "execution_count": 81,
   "id": "8398a35a-022b-48f8-903d-01b0c6ac83df",
   "metadata": {},
   "outputs": [
    {
     "data": {
      "text/plain": [
       "True"
      ]
     },
     "execution_count": 81,
     "metadata": {},
     "output_type": "execute_result"
    }
   ],
   "source": [
    "isinstance(2+4j,(float,int,complex))"
   ]
  },
  {
   "cell_type": "code",
   "execution_count": 83,
   "id": "aac5cc4b-b759-428b-ba4c-441ca8d2cf5f",
   "metadata": {},
   "outputs": [
    {
     "data": {
      "text/plain": [
       "16"
      ]
     },
     "execution_count": 83,
     "metadata": {},
     "output_type": "execute_result"
    }
   ],
   "source": [
    "2**4"
   ]
  },
  {
   "cell_type": "code",
   "execution_count": 86,
   "id": "93dbfec2-c8d8-488b-b675-2061bb68d4ca",
   "metadata": {},
   "outputs": [
    {
     "data": {
      "text/plain": [
       "2"
      ]
     },
     "execution_count": 86,
     "metadata": {},
     "output_type": "execute_result"
    }
   ],
   "source": [
    "pow(2,4,7)"
   ]
  },
  {
   "cell_type": "code",
   "execution_count": 89,
   "id": "c40d5f50-8f9a-4556-9c50-82c300cce0f2",
   "metadata": {},
   "outputs": [
    {
     "name": "stdin",
     "output_type": "stream",
     "text": [
      "Enter a number 3\n"
     ]
    },
    {
     "data": {
      "text/plain": [
       "'3'"
      ]
     },
     "execution_count": 89,
     "metadata": {},
     "output_type": "execute_result"
    }
   ],
   "source": [
    "input(\"Enter a number\")"
   ]
  },
  {
   "cell_type": "code",
   "execution_count": null,
   "id": "2c01fc52-7090-46fc-b0d9-61d0e74e1a72",
   "metadata": {},
   "outputs": [],
   "source": [
    "a  = input(\"Enter the number : \")\n",
    "b  =  input(\"Enter the number : \")\n",
    "if(a>b):\n",
    "    print(\"a is the bigger number\")\n",
    "\n",
    "else:\n",
    "    print(\"b is the bigger number : \"+b)"
   ]
  }
 ],
 "metadata": {
  "kernelspec": {
   "display_name": "Python 3 (ipykernel)",
   "language": "python",
   "name": "python3"
  },
  "language_info": {
   "codemirror_mode": {
    "name": "ipython",
    "version": 3
   },
   "file_extension": ".py",
   "mimetype": "text/x-python",
   "name": "python",
   "nbconvert_exporter": "python",
   "pygments_lexer": "ipython3",
   "version": "3.12.4"
  }
 },
 "nbformat": 4,
 "nbformat_minor": 5
}
