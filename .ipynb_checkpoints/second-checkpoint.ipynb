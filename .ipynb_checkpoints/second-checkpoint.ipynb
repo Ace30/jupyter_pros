{
 "cells": [
  {
   "cell_type": "code",
   "execution_count": 5,
   "id": "30528dfb-d67c-4549-9ea4-690aafdcac7f",
   "metadata": {},
   "outputs": [
    {
     "name": "stdin",
     "output_type": "stream",
     "text": [
      "Enter a number 12\n",
      "Enter a number 2\n",
      "Enter a number 3\n"
     ]
    },
    {
     "name": "stdout",
     "output_type": "stream",
     "text": [
      "12\n"
     ]
    }
   ],
   "source": [
    "a = int(input(\"Enter a number\"))\n",
    "b = int(input(\"Enter a number\"))\n",
    "c = int(input(\"Enter a number\"))\n",
    "if(a>b):\n",
    "    print(a)\n",
    "elif(a==b):\n",
    "    \n",
    "    print(\"A=B\")\n",
    "elif(c>a):\n",
    "     print(\"C is the bigger one \" + c)\n",
    "\n",
    "   "
   ]
  },
  {
   "cell_type": "code",
   "execution_count": 8,
   "id": "80fdc64c-71d4-4cf2-b67d-87bddced5b4e",
   "metadata": {},
   "outputs": [
    {
     "name": "stdin",
     "output_type": "stream",
     "text": [
      "Enter a real number :  25.97\n"
     ]
    },
    {
     "name": "stdout",
     "output_type": "stream",
     "text": [
      "25\n"
     ]
    }
   ],
   "source": [
    "x = float(input(\"Enter a real number : \"))\n",
    "y = round(x)\n",
    "if y>x:\n",
    "    intPortion = y-1\n",
    "else:\n",
    "    intPortion =  y\n",
    "print(intPortion)"
   ]
  },
  {
   "cell_type": "code",
   "execution_count": 12,
   "id": "07e1481a-8ce8-41a5-9d87-ad1c19133edf",
   "metadata": {},
   "outputs": [
    {
     "name": "stdin",
     "output_type": "stream",
     "text": [
      " 5\n"
     ]
    },
    {
     "name": "stdout",
     "output_type": "stream",
     "text": [
      "1\n",
      "The iteration number : 1\n",
      "4\n",
      "The iteration number : 2\n",
      "9\n",
      "The iteration number : 3\n",
      "16\n",
      "The iteration number : 4\n",
      "25\n",
      "The iteration number : 5\n",
      "Loop Done\n"
     ]
    }
   ],
   "source": [
    "n = int(input())\n",
    "i = 1\n",
    "while(i<=n):\n",
    "    print(i**2)\n",
    "    print(\"The iteration number :\",i)\n",
    "    i+=1\n",
    "print(\"Loop Done\")"
   ]
  },
  {
   "cell_type": "code",
   "execution_count": 19,
   "id": "b3fd34a1-535d-4d96-9d62-19e2c66c2eed",
   "metadata": {},
   "outputs": [
    {
     "name": "stdin",
     "output_type": "stream",
     "text": [
      "Max Iteration :  25\n"
     ]
    },
    {
     "name": "stdout",
     "output_type": "stream",
     "text": [
      "2\n",
      "4\n",
      "6\n",
      "8\n",
      "10\n",
      "12\n",
      "14\n",
      "16\n",
      "18\n",
      "20\n",
      "22\n",
      "24\n",
      "Done\n"
     ]
    }
   ],
   "source": [
    "n = int(input(\"Max Iteration : \"))\n",
    "i = 1\n",
    "while i < n:\n",
    "    if(i%2==0):\n",
    "      print(i)\n",
    "    else:\n",
    "        pass\n",
    "    i+=1\n",
    "print('Done')"
   ]
  },
  {
   "cell_type": "code",
   "execution_count": 40,
   "id": "bff50982-82b5-4e49-8a0e-424d6b9f2646",
   "metadata": {},
   "outputs": [
    {
     "name": "stdout",
     "output_type": "stream",
     "text": [
      "2\n",
      "7\n",
      "12\n",
      "17\n",
      "[4, 49, 144, 289]\n"
     ]
    }
   ],
   "source": [
    "L = []\n",
    "for i in range(2,20,5):\n",
    "  print(i)\n",
    "  L.append(i**2)\n",
    "print(L)\n"
   ]
  },
  {
   "cell_type": "code",
   "execution_count": 46,
   "id": "0ee81f4f-b22b-4e53-ae00-4ab1c8e4f98b",
   "metadata": {},
   "outputs": [
    {
     "name": "stdout",
     "output_type": "stream",
     "text": [
      "apple\n",
      "4.9\n",
      "Out side the loop\n"
     ]
    }
   ],
   "source": [
    "  S = {\"apple\",4.9,\"cherry\"}\n",
    "i = 1\n",
    "for x in S:\n",
    "    print(x)\n",
    "    i+=1\n",
    "    if i == 3:\n",
    "        break\n",
    "    else:\n",
    "         pass\n",
    "    \n",
    "else:\n",
    "    print(\"Loop terminated\")\n",
    "print(\"Out side the loop\")\n",
    "    "
   ]
  },
  {
   "cell_type": "code",
   "execution_count": 51,
   "id": "d2224621-11c2-4be3-bdd5-29c4179fe5f0",
   "metadata": {},
   "outputs": [
    {
     "name": "stdout",
     "output_type": "stream",
     "text": [
      "apple 44\n",
      "Cherry game\n"
     ]
    }
   ],
   "source": [
    "D = {\"apple\":44, \"Cherry\":\"game\"}\n",
    "for x in D:\n",
    "    print(x,D[x])"
   ]
  },
  {
   "cell_type": "code",
   "execution_count": 53,
   "id": "6ff4a85a-beda-4d7c-89c4-622a93a1d981",
   "metadata": {},
   "outputs": [
    {
     "name": "stdout",
     "output_type": "stream",
     "text": [
      "A\n",
      "10\n",
      "B\n",
      "20\n",
      "C\n",
      "30\n"
     ]
    }
   ],
   "source": [
    "D = {\"A\":10, \"B\": 20,\"C\" :30}\n",
    "for x in D:\n",
    "    print(x,D[x])\n",
    "    print()"
   ]
  }
 ],
 "metadata": {
  "kernelspec": {
   "display_name": "Python 3 (ipykernel)",
   "language": "python",
   "name": "python3"
  },
  "language_info": {
   "codemirror_mode": {
    "name": "ipython",
    "version": 3
   },
   "file_extension": ".py",
   "mimetype": "text/x-python",
   "name": "python",
   "nbconvert_exporter": "python",
   "pygments_lexer": "ipython3",
   "version": "3.12.4"
  }
 },
 "nbformat": 4,
 "nbformat_minor": 5
}
